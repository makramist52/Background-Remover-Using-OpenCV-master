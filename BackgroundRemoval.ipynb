{
 "cells": [
  {
   "attachments": {},
   "cell_type": "markdown",
   "metadata": {},
   "source": [
    "## **<center><font style=\"color:rgb(100,109,254)\">Background Removal</font> </center>** \n",
    "<!-- ## **<center><font style=\"color:rgb(100,109,254)\">(Play Tennis Example)</font> </center>**  -->"
   ]
  },
  {
   "attachments": {},
   "cell_type": "markdown",
   "metadata": {},
   "source": [
    "## Import Libraries"
   ]
  },
  {
   "cell_type": "code",
   "execution_count": 12,
   "metadata": {},
   "outputs": [],
   "source": [
    "import cv2\n",
    "from selfiSegmentation import SelfiSegmentation # mediapipe module for selfisegmentation\n",
    "import os\n",
    "import numpy as np\n",
    "import time"
   ]
  },
  {
   "cell_type": "code",
   "execution_count": 21,
   "metadata": {},
   "outputs": [],
   "source": [
    "cam = cv2.VideoCapture(0)\n",
    "\n",
    "segmentor = SelfiSegmentation()\n",
    "\n",
    "currentTime = 0\n",
    "previousTime = 0\n",
    "\n",
    "backgroundImage = cv2.imread(\"20181210_115057.jpg\")\n",
    "while True:\n",
    "\n",
    "    Success, frame = cam.read()\n",
    "    frame = cv2.flip(frame, 1)\n",
    "\n",
    "    # for color\n",
    "    # frameOut = segmentor.removeBG(frame, (255, 255, 255), threshold=0.80)\n",
    "\n",
    "    # for image\n",
    "    frameOut = segmentor.removeBG(frame, backgroundImage, threshold=0.80)\n",
    "    \n",
    "    frame = np.hstack((frame, frameOut))\n",
    "\n",
    "    currentTime = time.time()\n",
    "    fps = 1/(currentTime - previousTime)\n",
    "    previousTime = currentTime\n",
    "\n",
    "    cv2.putText(frame, f\"FPS: {int(fps)}\", (20,40), cv2.FONT_HERSHEY_SIMPLEX, 1, (255, 0, 0), 2)\n",
    "\n",
    "    cv2.imshow(\"frame\", frame)\n",
    "    # cv2.imshow(\"frameOut\", frameOut)\n",
    "    key = cv2.waitKey(1)\n",
    "\n",
    "    if key == ord('q'):\n",
    "        break\n",
    "\n",
    "cam.release()\n",
    "cv2.destroyAllWindows()"
   ]
  },
  {
   "cell_type": "code",
   "execution_count": null,
   "metadata": {},
   "outputs": [],
   "source": []
  }
 ],
 "metadata": {
  "kernelspec": {
   "display_name": "Python 3",
   "language": "python",
   "name": "python3"
  },
  "language_info": {
   "codemirror_mode": {
    "name": "ipython",
    "version": 3
   },
   "file_extension": ".py",
   "mimetype": "text/x-python",
   "name": "python",
   "nbconvert_exporter": "python",
   "pygments_lexer": "ipython3",
   "version": "3.9.1"
  },
  "orig_nbformat": 4
 },
 "nbformat": 4,
 "nbformat_minor": 2
}
